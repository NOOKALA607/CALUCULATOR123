{
 "cells": [
  {
   "cell_type": "code",
   "execution_count": 75,
   "metadata": {},
   "outputs": [],
   "source": [
    "#simple Linear Regression\n",
    "#y=mx+c\n",
    "#y=target\n",
    "#X=independent data\n",
    "#COEFFICIENTS\n",
    "#  m=slope\n",
    "#  c=interecept\n",
    "#covariance=((x[i])-mean(x))*((y[i])-mean(y))\n",
    "#variance=((sum(x[i])-mean(x)**2))\n",
    "#m=(covariace/variance)\n",
    "#c=mean(y)-m(mean(x))"
   ]
  },
  {
   "cell_type": "code",
   "execution_count": 76,
   "metadata": {},
   "outputs": [
    {
     "data": {
      "text/html": [
       "<div>\n",
       "<style scoped>\n",
       "    .dataframe tbody tr th:only-of-type {\n",
       "        vertical-align: middle;\n",
       "    }\n",
       "\n",
       "    .dataframe tbody tr th {\n",
       "        vertical-align: top;\n",
       "    }\n",
       "\n",
       "    .dataframe thead th {\n",
       "        text-align: right;\n",
       "    }\n",
       "</style>\n",
       "<table border=\"1\" class=\"dataframe\">\n",
       "  <thead>\n",
       "    <tr style=\"text-align: right;\">\n",
       "      <th></th>\n",
       "      <th>Area</th>\n",
       "      <th>price</th>\n",
       "    </tr>\n",
       "  </thead>\n",
       "  <tbody>\n",
       "    <tr>\n",
       "      <th>0</th>\n",
       "      <td>50</td>\n",
       "      <td>5000</td>\n",
       "    </tr>\n",
       "    <tr>\n",
       "      <th>1</th>\n",
       "      <td>60</td>\n",
       "      <td>6000</td>\n",
       "    </tr>\n",
       "    <tr>\n",
       "      <th>2</th>\n",
       "      <td>70</td>\n",
       "      <td>7000</td>\n",
       "    </tr>\n",
       "    <tr>\n",
       "      <th>3</th>\n",
       "      <td>80</td>\n",
       "      <td>8000</td>\n",
       "    </tr>\n",
       "    <tr>\n",
       "      <th>4</th>\n",
       "      <td>90</td>\n",
       "      <td>9000</td>\n",
       "    </tr>\n",
       "    <tr>\n",
       "      <th>5</th>\n",
       "      <td>10</td>\n",
       "      <td>1000</td>\n",
       "    </tr>\n",
       "    <tr>\n",
       "      <th>6</th>\n",
       "      <td>20</td>\n",
       "      <td>2000</td>\n",
       "    </tr>\n",
       "    <tr>\n",
       "      <th>7</th>\n",
       "      <td>30</td>\n",
       "      <td>3000</td>\n",
       "    </tr>\n",
       "    <tr>\n",
       "      <th>8</th>\n",
       "      <td>40</td>\n",
       "      <td>4000</td>\n",
       "    </tr>\n",
       "  </tbody>\n",
       "</table>\n",
       "</div>"
      ],
      "text/plain": [
       "   Area  price\n",
       "0    50   5000\n",
       "1    60   6000\n",
       "2    70   7000\n",
       "3    80   8000\n",
       "4    90   9000\n",
       "5    10   1000\n",
       "6    20   2000\n",
       "7    30   3000\n",
       "8    40   4000"
      ]
     },
     "execution_count": 76,
     "metadata": {},
     "output_type": "execute_result"
    }
   ],
   "source": [
    "import pandas as pd\n",
    "import numpy as np\n",
    "import matplotlib.pyplot as plt\n",
    "from sklearn.metrics import accuracy_score,r2_score\n",
    "df=pd.read_csv(\"E:\\\\Linear Test.csv\")\n",
    "df"
   ]
  },
  {
   "cell_type": "code",
   "execution_count": 77,
   "metadata": {},
   "outputs": [],
   "source": [
    "train=df[0:int(0.7*len(df))]\n",
    "test=df[int(0.7*len(df)):]\n"
   ]
  },
  {
   "cell_type": "code",
   "execution_count": 78,
   "metadata": {},
   "outputs": [],
   "source": [
    "x_train=train.iloc[:,0:1]\n",
    "y_train=train.iloc[:,1]\n",
    "x_test=test.iloc[:,0:1]\n",
    "y_test=test.iloc[:,1]"
   ]
  },
  {
   "cell_type": "code",
   "execution_count": 79,
   "metadata": {},
   "outputs": [],
   "source": [
    "X_train=np.squeeze(x_train.values)\n",
    "Y_train=np.squeeze(y_train.values)\n",
    "X_test=np.squeeze(x_test.values)\n",
    "Y_test=np.squeeze(y_test.values)"
   ]
  },
  {
   "cell_type": "code",
   "execution_count": 80,
   "metadata": {},
   "outputs": [
    {
     "name": "stdout",
     "output_type": "stream",
     "text": [
      "predicted Values: [5000.0, 6000.0, 7000.0, 8000.0, 9000.0, 1000.0]\n",
      "Accuracy: 100.0\n"
     ]
    },
    {
     "data": {
      "text/plain": [
       "<__main__.LinearRegression at 0x1be54874a48>"
      ]
     },
     "execution_count": 80,
     "metadata": {},
     "output_type": "execute_result"
    },
    {
     "data": {
      "image/png": "[encoded data removed]",
      "text/plain": [
       "<Figure size 432x288 with 1 Axes>"
      ]
     },
     "metadata": {
      "needs_background": "light"
     },
     "output_type": "display_data"
    }
   ],
   "source": [
    "class Mean:\n",
    "    def mean(x):\n",
    "        return ((sum(x)/len(x)))\n",
    "class Variance:\n",
    "    def variance(x):\n",
    "        var=0\n",
    "        for i in range(len(x)):\n",
    "            var+=((x[i]-Mean.mean(x))**2)\n",
    "        return var\n",
    "class Covariance:\n",
    "    def covariance(x,y):\n",
    "        covar=0\n",
    "        for i in range(len(x)):\n",
    "            covar+=((x[i])-Mean.mean(x))*((y[i])-Mean.mean(y))\n",
    "        return covar\n",
    "class Cofficients:\n",
    "    def cofficients(x,y):\n",
    "        m=(Covariance.covariance(x,y)/Variance.variance(x))\n",
    "        c=(Mean.mean(y)-m*Mean.mean(x))\n",
    "        return [\"coef_:\"+str(m),\"interecept_:\"+str(c)]\n",
    "\n",
    "class LinearRegression(Covariance,Mean,Variance,Cofficients):\n",
    "    def __init__(self,x,y):\n",
    "        m=(Covariance.covariance(x,y)/Variance.variance(x))\n",
    "        c=(Mean.mean(y)-m*Mean.mean(x))\n",
    "        pred=[]\n",
    "        for i in range(len(x)):\n",
    "            pred.append(((m*x[i])+c))\n",
    "           \n",
    "        print(\"predicted Values:\",pred)\n",
    "        print(\"Accuracy:\",accuracy_score(pred,y)*100)\n",
    "        c=[i for i in range(len(x))]\n",
    "        plt.scatter(c,pred,50,label=\"predicted\",color=\"green\")\n",
    "        plt.scatter(c,y,20,label=\"actual\",color=\"yellow\")\n",
    "       \n",
    "    \n",
    "LinearRegression(X_train,Y_train)"
   ]
  },
  {
   "cell_type": "code",
   "execution_count": 81,
   "metadata": {},
   "outputs": [
    {
     "name": "stdout",
     "output_type": "stream",
     "text": [
      "['coef_:100.0', 'interecept_:0.0']\n"
     ]
    }
   ],
   "source": [
    "print(LinearRegression.cofficients(X_train,Y_train))"
   ]
  },
  {
   "cell_type": "code",
   "execution_count": 82,
   "metadata": {},
   "outputs": [
    {
     "name": "stdout",
     "output_type": "stream",
     "text": [
      "60.0\n"
     ]
    }
   ],
   "source": [
    "print(LinearRegression.mean(X_train))"
   ]
  },
  {
   "cell_type": "code",
   "execution_count": 83,
   "metadata": {},
   "outputs": [
    {
     "name": "stdout",
     "output_type": "stream",
     "text": [
      "predicted Values: [2000.0, 3000.0, 4000.0]\n",
      "Accuracy: 100.0\n"
     ]
    },
    {
     "data": {
      "text/plain": [
       "<__main__.LinearRegression at 0x1be548b9248>"
      ]
     },
     "execution_count": 83,
     "metadata": {},
     "output_type": "execute_result"
    },
    {
     "data": {
      "image/png": "[encoded data removed]",
      "text/plain": [
       "<Figure size 432x288 with 1 Axes>"
      ]
     },
     "metadata": {
      "needs_background": "light"
     },
     "output_type": "display_data"
    }
   ],
   "source": [
    "LinearRegression(X_test,Y_test)"
   ]
  },
  {
   "cell_type": "code",
   "execution_count": 84,
   "metadata": {},
   "outputs": [
    {
     "data": {
      "text/plain": [
       "6    2000\n",
       "7    3000\n",
       "8    4000\n",
       "Name: price, dtype: int64"
      ]
     },
     "execution_count": 84,
     "metadata": {},
     "output_type": "execute_result"
    }
   ],
   "source": [
    "y_test"
   ]
  },
  {
   "cell_type": "code",
   "execution_count": null,
   "metadata": {},
   "outputs": [],
   "source": []
  }
 ],
 "metadata": {
  "kernelspec": {
   "display_name": "Python 3",
   "language": "python",
   "name": "python3"
  },
  "language_info": {
   "codemirror_mode": {
    "name": "ipython",
    "version": 3
   },
   "file_extension": ".py",
   "mimetype": "text/x-python",
   "name": "python",
   "nbconvert_exporter": "python",
   "pygments_lexer": "ipython3",
   "version": "3.7.4"
  }
 },
 "nbformat": 4,
 "nbformat_minor": 2
}
