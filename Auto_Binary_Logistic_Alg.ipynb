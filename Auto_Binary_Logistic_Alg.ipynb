{
 "cells": [
  {
   "cell_type": "code",
   "execution_count": null,
   "metadata": {},
   "outputs": [],
   "source": [
    "import numpy as np\n",
    "class Logistic_Regression:\n",
    "    def __init__(self,data,learning_rate):\n",
    "        #global predictions\n",
    "        vals=data.values\n",
    "        index_vals=len(vals[0])-1\n",
    "        x_data=data.iloc[:,0:index_vals]\n",
    "        y_data=data.iloc[:,index_vals]\n",
    "        x=x_data.values\n",
    "        y=y_data.values\n",
    "        epochs=len(x[0])\n",
    "        n=0\n",
    "        while n<epochs:\n",
    "            for i in range(len(x)):\n",
    "                w=[0 for i in range(len(x[0]))]\n",
    "                self.predictions=[1 for i in range(len(x))]\n",
    "                f=np.dot(w,x[0])\n",
    "                z=0\n",
    "                if f>z:\n",
    "                    yhat=1\n",
    "                else:\n",
    "                    yhat=0\n",
    "\n",
    "                for j in range(len(w)):\n",
    "                    w[j]=w[j]+learning_rate*(y[i]-yhat)*x[i][j]\n",
    "                n+=1\n",
    "            sse=[]\n",
    "            for i in range(len(y)):\n",
    "                self.predictions[i]=(y[i]-yhat)**2\n",
    "            sse.append((0.5)*sum(self.predictions))\n",
    "        \n",
    "lr=Logistic_Regression(df,0.1)            \n",
    "pred=lr.predictions\n",
    "print(pred)"
   ]
  }
 ],
 "metadata": {
  "kernelspec": {
   "display_name": "Python 3",
   "language": "python",
   "name": "python3"
  },
  "language_info": {
   "codemirror_mode": {
    "name": "ipython",
    "version": 3
   },
   "file_extension": ".py",
   "mimetype": "text/x-python",
   "name": "python",
   "nbconvert_exporter": "python",
   "pygments_lexer": "ipython3",
   "version": "3.7.4"
  }
 },
 "nbformat": 4,
 "nbformat_minor": 2
}
