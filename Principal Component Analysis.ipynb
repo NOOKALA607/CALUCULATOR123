{
 "cells": [
  {
   "cell_type": "code",
   "execution_count": 218,
   "metadata": {},
   "outputs": [
    {
     "name": "stdout",
     "output_type": "stream",
     "text": [
      "[[-1.72828425  0.51217871 -1.00053064 ...  1.88894645 -1.1924204\n",
      "   0.0893532 ]\n",
      " [-1.72644797 -0.27083578  0.99946964 ... -0.88163899  0.61421494\n",
      "   0.0893532 ]\n",
      " [-1.72461168  0.51217871  0.99946964 ... -1.03556041  1.13039646\n",
      "   0.0893532 ]\n",
      " ...\n",
      " [ 1.73310729 -0.27083578 -1.00053064 ... -0.41987475  0.37597731\n",
      "   0.0893532 ]\n",
      " [ 1.73494357 -1.05385026 -1.00053064 ... -0.11203193  0.35612418\n",
      "   0.0893532 ]\n",
      " [ 1.73677985 -1.05385026  0.99946964 ... -0.26595334  0.35612418\n",
      "   0.0893532 ]]\n",
      "[9.87566719e-01 8.44373710e-03 1.39461915e-03 1.16029980e-03\n",
      " 8.32394152e-04 2.41860465e-04 1.87460707e-04 1.35399959e-04\n",
      " 1.91244127e-05 6.51285438e-06]\n"
     ]
    },
    {
     "data": {
      "image/png": "[encoded data removed]",
      "text/plain": [
       "<Figure size 432x288 with 1 Axes>"
      ]
     },
     "metadata": {
      "needs_background": "light"
     },
     "output_type": "display_data"
    }
   ],
   "source": [
    "#importing the data \n",
    "import pandas as pd\n",
    "df=pd.read_csv(\"E:\\DSTUTORIALS\\Drug-consumers project\\Heroin.csv\")\n",
    "#print(df)\n",
    "#convert the labeled data into numerical data\n",
    "from sklearn.preprocessing import LabelEncoder\n",
    "m=LabelEncoder()\n",
    "df[\"Age\"]=m.fit_transform(df[\"Age\"])\n",
    "df[\"Gender\"]=m.fit_transform(df[\"Gender\"])\n",
    "df[\"Country\"]=m.fit_transform(df[\"Country\"])\n",
    "df[\"Ethnicity\"]=m.fit_transform(df[\"Ethnicity\"])\n",
    "df[\"Impulsive \"]=m.fit_transform(df[\"Impulsive \"])\n",
    "df[\"Heroin\"]=m.fit_transform(df[\"Heroin\"])\n",
    "#print(df)\n",
    "\n",
    "#step-1:Standardize the data\n",
    "from sklearn.preprocessing import StandardScaler\n",
    "m=StandardScaler()\n",
    "x_std=m.fit_transform(df)\n",
    "print(x_std)  #1\n",
    "\n",
    "#step-2:Calculating the variance\n",
    "import numpy as np\n",
    "cove=np.cov(x_std)\n",
    "#print(cove)\n",
    "\n",
    "#step-3:Calculating the eigen vectors and eigen values from variance values\n",
    "eig_val,eig_vect=np.linalg.eig(cove)\n",
    "#print(eig_val)\n",
    "#print(eig_vect)\n",
    "\n",
    "\n",
    "#step-4 compute principal components\n",
    "from sklearn.decomposition import PCA\n",
    "pca=PCA(n_components=10)#n_components are used to display how many values you want\n",
    "pca.fit_transform(df)\n",
    "print(pca.explained_variance_ratio_)#2\n",
    "PCA().fit(x_std)\n",
    "#Reduce the dimensionality\n",
    "import matplotlib.pyplot as plt\n",
    "plt.plot(np.cumsum(pca.explained_variance_ratio_))\n",
    "\n",
    "plt.show()\n",
    "\n",
    "#Conclusion absorb the values between #1 and #2 if we compare them we s"
   ]
  },
  {
   "cell_type": "code",
   "execution_count": 212,
   "metadata": {},
   "outputs": [
    {
     "name": "stdout",
     "output_type": "stream",
     "text": [
      "[[ 1.34608987 -0.22365581 -0.15053362 ... -0.29121903 -0.91882973\n",
      "  -0.43243914]\n",
      " [-0.22365581  0.88896241  0.30029144 ... -0.40804105 -0.59488896\n",
      "   0.05300864]\n",
      " [-0.15053362  0.30029144  0.63934464 ... -0.22773061 -0.54362959\n",
      "  -0.14327368]\n",
      " ...\n",
      " [-0.29121903 -0.40804105 -0.22773061 ...  0.67154894  1.0442951\n",
      "  -0.06588593]\n",
      " [-0.91882973 -0.59488896 -0.54362959 ...  1.0442951   7.04357532\n",
      "  -0.17946391]\n",
      " [-0.43243914  0.05300864 -0.14327368 ... -0.06588593 -0.17946391\n",
      "   0.58912253]]\n"
     ]
    }
   ],
   "source": [
    "print(cove)"
   ]
  },
  {
   "cell_type": "code",
   "execution_count": null,
   "metadata": {},
   "outputs": [],
   "source": []
  }
 ],
 "metadata": {
  "kernelspec": {
   "display_name": "Python 3",
   "language": "python",
   "name": "python3"
  },
  "language_info": {
   "codemirror_mode": {
    "name": "ipython",
    "version": 3
   },
   "file_extension": ".py",
   "mimetype": "text/x-python",
   "name": "python",
   "nbconvert_exporter": "python",
   "pygments_lexer": "ipython3",
   "version": "3.7.3"
  }
 },
 "nbformat": 4,
 "nbformat_minor": 2
}
