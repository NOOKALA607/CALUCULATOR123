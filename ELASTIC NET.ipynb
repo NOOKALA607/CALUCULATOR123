{
 "cells": [
  {
   "cell_type": "code",
   "execution_count": 541,
   "metadata": {},
   "outputs": [],
   "source": [
    "import pandas as pd\n",
    "df=pd.read_csv(\"E:\\\\Linear Test.csv\")"
   ]
  },
  {
   "cell_type": "code",
   "execution_count": 542,
   "metadata": {},
   "outputs": [
    {
     "data": {
      "text/html": [
       "<div>\n",
       "<style scoped>\n",
       "    .dataframe tbody tr th:only-of-type {\n",
       "        vertical-align: middle;\n",
       "    }\n",
       "\n",
       "    .dataframe tbody tr th {\n",
       "        vertical-align: top;\n",
       "    }\n",
       "\n",
       "    .dataframe thead th {\n",
       "        text-align: right;\n",
       "    }\n",
       "</style>\n",
       "<table border=\"1\" class=\"dataframe\">\n",
       "  <thead>\n",
       "    <tr style=\"text-align: right;\">\n",
       "      <th></th>\n",
       "      <th>Area</th>\n",
       "      <th>Bed_Rooms</th>\n",
       "      <th>Noofchild</th>\n",
       "      <th>price</th>\n",
       "    </tr>\n",
       "  </thead>\n",
       "  <tbody>\n",
       "    <tr>\n",
       "      <th>0</th>\n",
       "      <td>50</td>\n",
       "      <td>2</td>\n",
       "      <td>3</td>\n",
       "      <td>5000</td>\n",
       "    </tr>\n",
       "    <tr>\n",
       "      <th>1</th>\n",
       "      <td>60</td>\n",
       "      <td>3</td>\n",
       "      <td>4</td>\n",
       "      <td>6010</td>\n",
       "    </tr>\n",
       "    <tr>\n",
       "      <th>2</th>\n",
       "      <td>70</td>\n",
       "      <td>4</td>\n",
       "      <td>5</td>\n",
       "      <td>7000</td>\n",
       "    </tr>\n",
       "    <tr>\n",
       "      <th>3</th>\n",
       "      <td>80</td>\n",
       "      <td>5</td>\n",
       "      <td>6</td>\n",
       "      <td>8020</td>\n",
       "    </tr>\n",
       "    <tr>\n",
       "      <th>4</th>\n",
       "      <td>90</td>\n",
       "      <td>6</td>\n",
       "      <td>7</td>\n",
       "      <td>9000</td>\n",
       "    </tr>\n",
       "    <tr>\n",
       "      <th>5</th>\n",
       "      <td>10</td>\n",
       "      <td>1</td>\n",
       "      <td>1</td>\n",
       "      <td>1000</td>\n",
       "    </tr>\n",
       "    <tr>\n",
       "      <th>6</th>\n",
       "      <td>20</td>\n",
       "      <td>2</td>\n",
       "      <td>3</td>\n",
       "      <td>2030</td>\n",
       "    </tr>\n",
       "    <tr>\n",
       "      <th>7</th>\n",
       "      <td>30</td>\n",
       "      <td>3</td>\n",
       "      <td>4</td>\n",
       "      <td>3000</td>\n",
       "    </tr>\n",
       "    <tr>\n",
       "      <th>8</th>\n",
       "      <td>40</td>\n",
       "      <td>4</td>\n",
       "      <td>5</td>\n",
       "      <td>4000</td>\n",
       "    </tr>\n",
       "  </tbody>\n",
       "</table>\n",
       "</div>"
      ],
      "text/plain": [
       "   Area  Bed_Rooms  Noofchild  price\n",
       "0    50          2          3   5000\n",
       "1    60          3          4   6010\n",
       "2    70          4          5   7000\n",
       "3    80          5          6   8020\n",
       "4    90          6          7   9000\n",
       "5    10          1          1   1000\n",
       "6    20          2          3   2030\n",
       "7    30          3          4   3000\n",
       "8    40          4          5   4000"
      ]
     },
     "execution_count": 542,
     "metadata": {},
     "output_type": "execute_result"
    }
   ],
   "source": [
    "df"
   ]
  },
  {
   "cell_type": "code",
   "execution_count": 543,
   "metadata": {},
   "outputs": [
    {
     "data": {
      "text/plain": [
       "array([[  50,    2,    3, 5000],\n",
       "       [  60,    3,    4, 6010],\n",
       "       [  70,    4,    5, 7000],\n",
       "       [  80,    5,    6, 8020],\n",
       "       [  90,    6,    7, 9000],\n",
       "       [  10,    1,    1, 1000],\n",
       "       [  20,    2,    3, 2030],\n",
       "       [  30,    3,    4, 3000],\n",
       "       [  40,    4,    5, 4000]], dtype=int64)"
      ]
     },
     "execution_count": 543,
     "metadata": {},
     "output_type": "execute_result"
    }
   ],
   "source": [
    "data=df.values\n",
    "data"
   ]
  },
  {
   "cell_type": "code",
   "execution_count": 544,
   "metadata": {},
   "outputs": [
    {
     "data": {
      "text/plain": [
       "[0    50\n",
       " 1    60\n",
       " 2    70\n",
       " 3    80\n",
       " 4    90\n",
       " 5    10\n",
       " 6    20\n",
       " 7    30\n",
       " 8    40\n",
       " Name: Area, dtype: int64, 0    2\n",
       " 1    3\n",
       " 2    4\n",
       " 3    5\n",
       " 4    6\n",
       " 5    1\n",
       " 6    2\n",
       " 7    3\n",
       " 8    4\n",
       " Name: Bed_Rooms, dtype: int64, 0    3\n",
       " 1    4\n",
       " 2    5\n",
       " 3    6\n",
       " 4    7\n",
       " 5    1\n",
       " 6    3\n",
       " 7    4\n",
       " 8    5\n",
       " Name: Noofchild, dtype: int64]"
      ]
     },
     "execution_count": 544,
     "metadata": {},
     "output_type": "execute_result"
    }
   ],
   "source": [
    "x=[]\n",
    "for i in range(len(data[0])-1):\n",
    "    x.append(df.iloc[:,i])\n",
    "x"
   ]
  },
  {
   "cell_type": "code",
   "execution_count": 545,
   "metadata": {},
   "outputs": [],
   "source": [
    "target=df.iloc[:,-1]\n"
   ]
  },
  {
   "cell_type": "code",
   "execution_count": 546,
   "metadata": {
    "scrolled": false
   },
   "outputs": [
    {
     "name": "stdout",
     "output_type": "stream",
     "text": [
      "Covariance: [599800.0, 29990.000000000004, 33996.666666666664]\n"
     ]
    }
   ],
   "source": [
    "import numpy as np\n",
    "import copy \n",
    "def covariance(x,y):\n",
    "\n",
    "    global covar1\n",
    "    covar1=[]\n",
    "    covar=0\n",
    "    for i in range(len(data[0])-1):\n",
    "        for j in range(len(df)):\n",
    "\n",
    "            covar=((x[i][j])-x[i].mean())*(y[j]-y.mean())\n",
    "            \n",
    "            covar1.append(covar)\n",
    "    \n",
    "covariance(x,target)\n",
    "sim=copy.deepcopy(covar1)\n",
    "res=[]\n",
    "for i in range(len(data[0])-1):\n",
    "    res.append(sim[0:len(df)])\n",
    "    del sim[0:len(df)]\n",
    "\n",
    "real_covar1=[sum(i) for i in res]\n",
    "real_covar1\n",
    "print(\"Covariance:\",real_covar1)"
   ]
  },
  {
   "cell_type": "code",
   "execution_count": 547,
   "metadata": {},
   "outputs": [
    {
     "name": "stdout",
     "output_type": "stream",
     "text": [
      "variance: [6000.0, 20.0, 25.55555555555555]\n"
     ]
    }
   ],
   "source": [
    "import numpy as np\n",
    "def variance(x):\n",
    "    \n",
    "    global var1\n",
    "    var1=[]    \n",
    "    for i in range(len(data[0])-1):\n",
    "        for j in range(len(df)):\n",
    "            \n",
    "            var=(((x[i][j])-x[i].mean())**2)\n",
    "            var1.append(var)\n",
    "    \n",
    "variance(x)\n",
    "sim_var1=copy.deepcopy(var1)\n",
    "res_var1=[]\n",
    "for i in range(len(data[0])-1):\n",
    "    res_var1.append(sim_var1[0:len(df)])\n",
    "    del sim_var1[0:len(df)]\n",
    "real_var1=[sum(i) for i in res_var1]\n",
    "print(\"variance:\",real_var1)\n",
    "    "
   ]
  },
  {
   "cell_type": "code",
   "execution_count": 548,
   "metadata": {},
   "outputs": [
    {
     "name": "stdout",
     "output_type": "stream",
     "text": [
      "SLOPE: [99.96666666666667, 1499.5000000000002, 1330.3043478260872]\n"
     ]
    }
   ],
   "source": [
    "m=[real_covar1[i]/real_var1[i] for i in range(len(real_var1))]\n",
    "print(\"SLOPE:\",m)"
   ]
  },
  {
   "cell_type": "code",
   "execution_count": 549,
   "metadata": {},
   "outputs": [
    {
     "name": "stdout",
     "output_type": "stream",
     "text": [
      "INTERCEPT: [8.33333333333394, 8.33333333333303, -610.1739130434789]\n"
     ]
    }
   ],
   "source": [
    "intercept=[]\n",
    "for i in range(len(data[0])-1):\n",
    "    c=((target.mean())-(m[i]*(x[i].mean())))\n",
    "    intercept.append(c)\n",
    "print(\"INTERCEPT:\",intercept)"
   ]
  },
  {
   "cell_type": "code",
   "execution_count": 550,
   "metadata": {
    "scrolled": true
   },
   "outputs": [
    {
     "data": {
      "text/plain": [
       "<matplotlib.legend.Legend at 0x1c9b88d50c8>"
      ]
     },
     "execution_count": 550,
     "metadata": {},
     "output_type": "execute_result"
    },
    {
     "data": {
      "image/png": "[encoded data removed]",
      "text/plain": [
       "<Figure size 432x288 with 1 Axes>"
      ]
     },
     "metadata": {
      "needs_background": "light"
     },
     "output_type": "display_data"
    }
   ],
   "source": [
    "tar=[]\n",
    "for i in range(len(x)):\n",
    "    for j in range(len(df)):\n",
    "        \n",
    "        tar.append(m[i]*x[i][j]+intercept[i])\n",
    "import copy \n",
    "fin_tar=copy.deepcopy(tar)\n",
    "\n",
    "\n",
    "final=[]\n",
    "for i in range(len(data[0])-1):\n",
    "    final.append(fin_tar[0:len(df)])\n",
    "    del fin_tar[0:len(df)]\n",
    "pred1=[[row[i] for row in final] for i in range(len(df))]\n",
    "\n",
    "\n",
    "pred=[(sum(i)/len(i)) for i in pred1]\n",
    "from sklearn.metrics import r2_score\n",
    "r2_score(pred,target)\n",
    "\n",
    "c=[i for i in range(len(df))]\n",
    "import matplotlib.pyplot as plt\n",
    "plt.scatter(c,pred,color=\"blue\",label=\"PREDICTED\")\n",
    "plt.scatter(c,target,color=\"green\",label=\"ACTUAL\")\n",
    "plt.legend()"
   ]
  },
  {
   "cell_type": "code",
   "execution_count": null,
   "metadata": {},
   "outputs": [],
   "source": []
  },
  {
   "cell_type": "code",
   "execution_count": null,
   "metadata": {},
   "outputs": [],
   "source": []
  },
  {
   "cell_type": "code",
   "execution_count": null,
   "metadata": {},
   "outputs": [],
   "source": []
  },
  {
   "cell_type": "code",
   "execution_count": null,
   "metadata": {},
   "outputs": [],
   "source": []
  },
  {
   "cell_type": "code",
   "execution_count": null,
   "metadata": {},
   "outputs": [],
   "source": []
  },
  {
   "cell_type": "code",
   "execution_count": null,
   "metadata": {},
   "outputs": [],
   "source": []
  },
  {
   "cell_type": "code",
   "execution_count": null,
   "metadata": {},
   "outputs": [],
   "source": []
  }
 ],
 "metadata": {
  "kernelspec": {
   "display_name": "Python 3",
   "language": "python",
   "name": "python3"
  },
  "language_info": {
   "codemirror_mode": {
    "name": "ipython",
    "version": 3
   },
   "file_extension": ".py",
   "mimetype": "text/x-python",
   "name": "python",
   "nbconvert_exporter": "python",
   "pygments_lexer": "ipython3",
   "version": "3.7.4"
  }
 },
 "nbformat": 4,
 "nbformat_minor": 2
}
