{
 "cells": [
  {
   "cell_type": "code",
   "execution_count": 611,
   "metadata": {},
   "outputs": [],
   "source": [
    "import pandas as pd\n",
    "df=pd.read_csv(\"E:\\\\csv files\\\\car-price.csv\")"
   ]
  },
  {
   "cell_type": "code",
   "execution_count": 612,
   "metadata": {},
   "outputs": [
    {
     "data": {
      "text/html": [
       "<div>\n",
       "<style scoped>\n",
       "    .dataframe tbody tr th:only-of-type {\n",
       "        vertical-align: middle;\n",
       "    }\n",
       "\n",
       "    .dataframe tbody tr th {\n",
       "        vertical-align: top;\n",
       "    }\n",
       "\n",
       "    .dataframe thead th {\n",
       "        text-align: right;\n",
       "    }\n",
       "</style>\n",
       "<table border=\"1\" class=\"dataframe\">\n",
       "  <thead>\n",
       "    <tr style=\"text-align: right;\">\n",
       "      <th></th>\n",
       "      <th>symboling</th>\n",
       "      <th>normalized-losses</th>\n",
       "      <th>make</th>\n",
       "      <th>fuel-type</th>\n",
       "      <th>aspiration</th>\n",
       "      <th>num-of-doors</th>\n",
       "      <th>body-style</th>\n",
       "      <th>drive-wheels</th>\n",
       "      <th>engine-location</th>\n",
       "      <th>wheel-base</th>\n",
       "      <th>...</th>\n",
       "      <th>engine-size</th>\n",
       "      <th>fuel-system</th>\n",
       "      <th>bore</th>\n",
       "      <th>stroke</th>\n",
       "      <th>compression-ratio</th>\n",
       "      <th>horsepower</th>\n",
       "      <th>peak-rpm</th>\n",
       "      <th>city-mpg</th>\n",
       "      <th>highway-mpg</th>\n",
       "      <th>price</th>\n",
       "    </tr>\n",
       "  </thead>\n",
       "  <tbody>\n",
       "    <tr>\n",
       "      <th>0</th>\n",
       "      <td>5</td>\n",
       "      <td>27</td>\n",
       "      <td>0</td>\n",
       "      <td>1</td>\n",
       "      <td>0</td>\n",
       "      <td>0</td>\n",
       "      <td>0</td>\n",
       "      <td>2</td>\n",
       "      <td>0</td>\n",
       "      <td>2</td>\n",
       "      <td>...</td>\n",
       "      <td>18</td>\n",
       "      <td>5</td>\n",
       "      <td>23</td>\n",
       "      <td>4</td>\n",
       "      <td>13</td>\n",
       "      <td>5</td>\n",
       "      <td>10</td>\n",
       "      <td>8</td>\n",
       "      <td>10</td>\n",
       "      <td>13495</td>\n",
       "    </tr>\n",
       "    <tr>\n",
       "      <th>1</th>\n",
       "      <td>5</td>\n",
       "      <td>27</td>\n",
       "      <td>0</td>\n",
       "      <td>1</td>\n",
       "      <td>0</td>\n",
       "      <td>0</td>\n",
       "      <td>0</td>\n",
       "      <td>2</td>\n",
       "      <td>0</td>\n",
       "      <td>2</td>\n",
       "      <td>...</td>\n",
       "      <td>18</td>\n",
       "      <td>5</td>\n",
       "      <td>23</td>\n",
       "      <td>4</td>\n",
       "      <td>13</td>\n",
       "      <td>5</td>\n",
       "      <td>10</td>\n",
       "      <td>8</td>\n",
       "      <td>10</td>\n",
       "      <td>16500</td>\n",
       "    </tr>\n",
       "    <tr>\n",
       "      <th>2</th>\n",
       "      <td>3</td>\n",
       "      <td>27</td>\n",
       "      <td>0</td>\n",
       "      <td>1</td>\n",
       "      <td>0</td>\n",
       "      <td>0</td>\n",
       "      <td>2</td>\n",
       "      <td>2</td>\n",
       "      <td>0</td>\n",
       "      <td>10</td>\n",
       "      <td>...</td>\n",
       "      <td>28</td>\n",
       "      <td>5</td>\n",
       "      <td>1</td>\n",
       "      <td>27</td>\n",
       "      <td>13</td>\n",
       "      <td>20</td>\n",
       "      <td>10</td>\n",
       "      <td>6</td>\n",
       "      <td>9</td>\n",
       "      <td>16500</td>\n",
       "    </tr>\n",
       "    <tr>\n",
       "      <th>3</th>\n",
       "      <td>4</td>\n",
       "      <td>27</td>\n",
       "      <td>1</td>\n",
       "      <td>1</td>\n",
       "      <td>0</td>\n",
       "      <td>1</td>\n",
       "      <td>3</td>\n",
       "      <td>1</td>\n",
       "      <td>0</td>\n",
       "      <td>30</td>\n",
       "      <td>...</td>\n",
       "      <td>11</td>\n",
       "      <td>5</td>\n",
       "      <td>13</td>\n",
       "      <td>24</td>\n",
       "      <td>22</td>\n",
       "      <td>2</td>\n",
       "      <td>16</td>\n",
       "      <td>11</td>\n",
       "      <td>13</td>\n",
       "      <td>13950</td>\n",
       "    </tr>\n",
       "    <tr>\n",
       "      <th>4</th>\n",
       "      <td>4</td>\n",
       "      <td>27</td>\n",
       "      <td>1</td>\n",
       "      <td>1</td>\n",
       "      <td>0</td>\n",
       "      <td>1</td>\n",
       "      <td>3</td>\n",
       "      <td>0</td>\n",
       "      <td>0</td>\n",
       "      <td>28</td>\n",
       "      <td>...</td>\n",
       "      <td>22</td>\n",
       "      <td>5</td>\n",
       "      <td>13</td>\n",
       "      <td>24</td>\n",
       "      <td>5</td>\n",
       "      <td>8</td>\n",
       "      <td>16</td>\n",
       "      <td>5</td>\n",
       "      <td>5</td>\n",
       "      <td>17450</td>\n",
       "    </tr>\n",
       "    <tr>\n",
       "      <th>...</th>\n",
       "      <td>...</td>\n",
       "      <td>...</td>\n",
       "      <td>...</td>\n",
       "      <td>...</td>\n",
       "      <td>...</td>\n",
       "      <td>...</td>\n",
       "      <td>...</td>\n",
       "      <td>...</td>\n",
       "      <td>...</td>\n",
       "      <td>...</td>\n",
       "      <td>...</td>\n",
       "      <td>...</td>\n",
       "      <td>...</td>\n",
       "      <td>...</td>\n",
       "      <td>...</td>\n",
       "      <td>...</td>\n",
       "      <td>...</td>\n",
       "      <td>...</td>\n",
       "      <td>...</td>\n",
       "      <td>...</td>\n",
       "      <td>...</td>\n",
       "    </tr>\n",
       "    <tr>\n",
       "      <th>200</th>\n",
       "      <td>1</td>\n",
       "      <td>49</td>\n",
       "      <td>21</td>\n",
       "      <td>1</td>\n",
       "      <td>0</td>\n",
       "      <td>1</td>\n",
       "      <td>3</td>\n",
       "      <td>2</td>\n",
       "      <td>0</td>\n",
       "      <td>46</td>\n",
       "      <td>...</td>\n",
       "      <td>24</td>\n",
       "      <td>5</td>\n",
       "      <td>35</td>\n",
       "      <td>15</td>\n",
       "      <td>20</td>\n",
       "      <td>7</td>\n",
       "      <td>15</td>\n",
       "      <td>10</td>\n",
       "      <td>11</td>\n",
       "      <td>16845</td>\n",
       "    </tr>\n",
       "    <tr>\n",
       "      <th>201</th>\n",
       "      <td>1</td>\n",
       "      <td>49</td>\n",
       "      <td>21</td>\n",
       "      <td>1</td>\n",
       "      <td>1</td>\n",
       "      <td>1</td>\n",
       "      <td>3</td>\n",
       "      <td>2</td>\n",
       "      <td>0</td>\n",
       "      <td>46</td>\n",
       "      <td>...</td>\n",
       "      <td>24</td>\n",
       "      <td>5</td>\n",
       "      <td>35</td>\n",
       "      <td>15</td>\n",
       "      <td>11</td>\n",
       "      <td>23</td>\n",
       "      <td>14</td>\n",
       "      <td>6</td>\n",
       "      <td>8</td>\n",
       "      <td>19045</td>\n",
       "    </tr>\n",
       "    <tr>\n",
       "      <th>202</th>\n",
       "      <td>1</td>\n",
       "      <td>49</td>\n",
       "      <td>21</td>\n",
       "      <td>1</td>\n",
       "      <td>0</td>\n",
       "      <td>1</td>\n",
       "      <td>3</td>\n",
       "      <td>2</td>\n",
       "      <td>0</td>\n",
       "      <td>46</td>\n",
       "      <td>...</td>\n",
       "      <td>33</td>\n",
       "      <td>5</td>\n",
       "      <td>26</td>\n",
       "      <td>7</td>\n",
       "      <td>12</td>\n",
       "      <td>13</td>\n",
       "      <td>16</td>\n",
       "      <td>5</td>\n",
       "      <td>6</td>\n",
       "      <td>21485</td>\n",
       "    </tr>\n",
       "    <tr>\n",
       "      <th>203</th>\n",
       "      <td>1</td>\n",
       "      <td>49</td>\n",
       "      <td>21</td>\n",
       "      <td>0</td>\n",
       "      <td>1</td>\n",
       "      <td>1</td>\n",
       "      <td>3</td>\n",
       "      <td>2</td>\n",
       "      <td>0</td>\n",
       "      <td>46</td>\n",
       "      <td>...</td>\n",
       "      <td>25</td>\n",
       "      <td>3</td>\n",
       "      <td>6</td>\n",
       "      <td>24</td>\n",
       "      <td>31</td>\n",
       "      <td>3</td>\n",
       "      <td>8</td>\n",
       "      <td>13</td>\n",
       "      <td>10</td>\n",
       "      <td>22470</td>\n",
       "    </tr>\n",
       "    <tr>\n",
       "      <th>204</th>\n",
       "      <td>1</td>\n",
       "      <td>49</td>\n",
       "      <td>21</td>\n",
       "      <td>1</td>\n",
       "      <td>1</td>\n",
       "      <td>1</td>\n",
       "      <td>3</td>\n",
       "      <td>2</td>\n",
       "      <td>0</td>\n",
       "      <td>46</td>\n",
       "      <td>...</td>\n",
       "      <td>24</td>\n",
       "      <td>5</td>\n",
       "      <td>35</td>\n",
       "      <td>15</td>\n",
       "      <td>20</td>\n",
       "      <td>7</td>\n",
       "      <td>15</td>\n",
       "      <td>6</td>\n",
       "      <td>8</td>\n",
       "      <td>22625</td>\n",
       "    </tr>\n",
       "  </tbody>\n",
       "</table>\n",
       "<p>205 rows × 26 columns</p>\n",
       "</div>"
      ],
      "text/plain": [
       "     symboling  normalized-losses  make  fuel-type  aspiration  num-of-doors  \\\n",
       "0            5                 27     0          1           0             0   \n",
       "1            5                 27     0          1           0             0   \n",
       "2            3                 27     0          1           0             0   \n",
       "3            4                 27     1          1           0             1   \n",
       "4            4                 27     1          1           0             1   \n",
       "..         ...                ...   ...        ...         ...           ...   \n",
       "200          1                 49    21          1           0             1   \n",
       "201          1                 49    21          1           1             1   \n",
       "202          1                 49    21          1           0             1   \n",
       "203          1                 49    21          0           1             1   \n",
       "204          1                 49    21          1           1             1   \n",
       "\n",
       "     body-style  drive-wheels  engine-location  wheel-base  ...  engine-size  \\\n",
       "0             0             2                0           2  ...           18   \n",
       "1             0             2                0           2  ...           18   \n",
       "2             2             2                0          10  ...           28   \n",
       "3             3             1                0          30  ...           11   \n",
       "4             3             0                0          28  ...           22   \n",
       "..          ...           ...              ...         ...  ...          ...   \n",
       "200           3             2                0          46  ...           24   \n",
       "201           3             2                0          46  ...           24   \n",
       "202           3             2                0          46  ...           33   \n",
       "203           3             2                0          46  ...           25   \n",
       "204           3             2                0          46  ...           24   \n",
       "\n",
       "     fuel-system  bore  stroke  compression-ratio  horsepower  peak-rpm  \\\n",
       "0              5    23       4                 13           5        10   \n",
       "1              5    23       4                 13           5        10   \n",
       "2              5     1      27                 13          20        10   \n",
       "3              5    13      24                 22           2        16   \n",
       "4              5    13      24                  5           8        16   \n",
       "..           ...   ...     ...                ...         ...       ...   \n",
       "200            5    35      15                 20           7        15   \n",
       "201            5    35      15                 11          23        14   \n",
       "202            5    26       7                 12          13        16   \n",
       "203            3     6      24                 31           3         8   \n",
       "204            5    35      15                 20           7        15   \n",
       "\n",
       "     city-mpg  highway-mpg  price  \n",
       "0           8           10  13495  \n",
       "1           8           10  16500  \n",
       "2           6            9  16500  \n",
       "3          11           13  13950  \n",
       "4           5            5  17450  \n",
       "..        ...          ...    ...  \n",
       "200        10           11  16845  \n",
       "201         6            8  19045  \n",
       "202         5            6  21485  \n",
       "203        13           10  22470  \n",
       "204         6            8  22625  \n",
       "\n",
       "[205 rows x 26 columns]"
      ]
     },
     "execution_count": 612,
     "metadata": {},
     "output_type": "execute_result"
    }
   ],
   "source": [
    "df"
   ]
  },
  {
   "cell_type": "code",
   "execution_count": 613,
   "metadata": {},
   "outputs": [
    {
     "data": {
      "text/plain": [
       "array([[    5,    27,     0, ...,     8,    10, 13495],\n",
       "       [    5,    27,     0, ...,     8,    10, 16500],\n",
       "       [    3,    27,     0, ...,     6,     9, 16500],\n",
       "       ...,\n",
       "       [    1,    49,    21, ...,     5,     6, 21485],\n",
       "       [    1,    49,    21, ...,    13,    10, 22470],\n",
       "       [    1,    49,    21, ...,     6,     8, 22625]], dtype=int64)"
      ]
     },
     "execution_count": 613,
     "metadata": {},
     "output_type": "execute_result"
    }
   ],
   "source": [
    "data=df.values\n",
    "data"
   ]
  },
  {
   "cell_type": "code",
   "execution_count": 614,
   "metadata": {},
   "outputs": [],
   "source": [
    "x=[]\n",
    "for i in range(len(data[0])-1):\n",
    "    x.append(df.iloc[:,i])\n"
   ]
  },
  {
   "cell_type": "code",
   "execution_count": 615,
   "metadata": {},
   "outputs": [],
   "source": [
    "target=df.iloc[:,-1]\n"
   ]
  },
  {
   "cell_type": "code",
   "execution_count": 616,
   "metadata": {
    "scrolled": false
   },
   "outputs": [
    {
     "name": "stdout",
     "output_type": "stream",
     "text": [
      "Covariance: [-38513.81951219503, 3236148.2829268305, -192918.68292683025, -88344.65853658537, 150475.0682926829, 33447.61951219511, -37820.55121951218, 330840.5560975611, 36321.2487804878, 8762795.370731711, 15092790.936585363, 8573182.595121961, 3652639.648780488, 41964568.08292683, -32157.751219512193, 486720.7219512193, 8409375.863414634, 1338432.3121951218, 5084728.75121951, 664153.0585365851, 135827.90731707297, -8590675.765853655, -413222.3756097572, -4326718.009756099, -4187082.1121951216]\n"
     ]
    }
   ],
   "source": [
    "import numpy as np\n",
    "import copy \n",
    "def covariance(x,y):\n",
    "\n",
    "    global covar1\n",
    "    covar1=[]\n",
    "    covar=0\n",
    "    for i in range(len(data[0])-1):\n",
    "        for j in range(len(df)):\n",
    "\n",
    "            covar=((x[i][j])-x[i].mean())*(y[j]-y.mean())\n",
    "            \n",
    "            covar1.append(covar)\n",
    "    \n",
    "covariance(x,target)\n",
    "sim=copy.deepcopy(covar1)\n",
    "res=[]\n",
    "for i in range(len(data[0])-1):\n",
    "    res.append(sim[0:len(df)])\n",
    "    del sim[0:len(df)]\n",
    "\n",
    "real_covar1=[sum(i) for i in res]\n",
    "real_covar1\n",
    "print(\"Covariance:\",real_covar1)"
   ]
  },
  {
   "cell_type": "code",
   "execution_count": 617,
   "metadata": {
    "scrolled": true
   },
   "outputs": [
    {
     "name": "stdout",
     "output_type": "stream",
     "text": [
      "variance: [316.36097560975617, 41886.995121951244, 8032.1951219512175, 18.04878048780482, 30.321951219512233, 50.360975609755926, 150.5560975609758, 63.10243902439023, 2.956097560975603, 39812.71219512192, 91167.28780487803, 24060.89756097564, 35306.55609756097, 494732.9951219511, 226.95609756097593, 161.7756097560975, 24021.287804878004, 826.8097560975601, 20370.956097560967, 15106.84878048781, 10314.419512195145, 70361.58048780488, 5513.239024390238, 7955.190243902428, 7344.40975609756]\n"
     ]
    }
   ],
   "source": [
    "import numpy as np\n",
    "def variance(x):\n",
    "    \n",
    "    global var1\n",
    "    var1=[]    \n",
    "    for i in range(len(data[0])-1):\n",
    "        for j in range(len(df)):\n",
    "            \n",
    "            var=(((x[i][j])-x[i].mean())**2)\n",
    "            var1.append(var)\n",
    "    \n",
    "variance(x)\n",
    "sim_var1=copy.deepcopy(var1)\n",
    "res_var1=[]\n",
    "for i in range(len(data[0])-1):\n",
    "    res_var1.append(sim_var1[0:len(df)])\n",
    "    del sim_var1[0:len(df)]\n",
    "real_var1=[sum(i) for i in res_var1]\n",
    "print(\"variance:\",real_var1)\n",
    "    "
   ]
  },
  {
   "cell_type": "code",
   "execution_count": 618,
   "metadata": {},
   "outputs": [
    {
     "name": "stdout",
     "output_type": "stream",
     "text": [
      "SLOPE: [-121.74010855151539, 77.25902212619923, -24.01817684926528, -4894.771621621638, 4962.578667953661, 664.1574970941516, -251.20570891653665, 5242.912337662341, 12286.891089108936, 220.10043746292115, 165.55050939858938, 356.3118363891296, 103.4549968194949, 84.82265888205539, -141.69150582469996, 3008.6162103485703, 350.0801427351843, 1618.7911455137598, 249.60677971459126, 43.96370601090634, 13.16873985554672, -122.0932745725147, -74.95092699258753, -543.8861770870262, -570.1046443819225]\n"
     ]
    }
   ],
   "source": [
    "m=[real_covar1[i]/real_var1[i] for i in range(len(real_var1))]\n",
    "print(\"SLOPE:\",m)"
   ]
  },
  {
   "cell_type": "code",
   "execution_count": 619,
   "metadata": {
    "scrolled": true
   },
   "outputs": [
    {
     "name": "stdout",
     "output_type": "stream",
     "text": [
      "INTERCEPT: [12765.946356431366, 10597.227277713764, 12713.821668893479, 16838.150000000016, 11525.232142857143, 12045.101123595503, 13077.728097459822, 5464.467532467526, 12241.108910891087, 7457.383793214221, 6500.669344385079, 6057.709107216567, 10019.247171395236, 5465.0452757744715, 12848.065124876412, 5391.028464600169, 6595.925039659932, 7153.923443621084, 7931.647820450254, 11572.524775711485, 12235.07724681904, 16229.03608593492, 13283.401155002506, 19011.22567748377, 20029.72832697044]\n"
     ]
    }
   ],
   "source": [
    "intercept=[]\n",
    "for i in range(len(data[0])-1):\n",
    "    c=((target.mean())-(m[i]*(x[i].mean())))\n",
    "    intercept.append(c)\n",
    "print(\"INTERCEPT:\",intercept)"
   ]
  },
  {
   "cell_type": "code",
   "execution_count": 620,
   "metadata": {},
   "outputs": [
    {
     "data": {
      "text/plain": [
       "<matplotlib.legend.Legend at 0x1c9b8e5bb08>"
      ]
     },
     "execution_count": 620,
     "metadata": {},
     "output_type": "execute_result"
    },
    {
     "data": {
      "image/png": "[encoded data removed]",
      "text/plain": [
       "<Figure size 432x288 with 1 Axes>"
      ]
     },
     "metadata": {
      "needs_background": "light"
     },
     "output_type": "display_data"
    }
   ],
   "source": [
    "import pandas as pd\n",
    "import matplotlib.pyplot as plt\n",
    "test_data=pd.read_csv(\"E:\\\\csv files\\\\test_data.csv\")\n",
    "def predictions(data):\n",
    "    global pred\n",
    "    given=data.values\n",
    "    x_train=x\n",
    "    y_train=target\n",
    "    m=[real_covar1[i]/real_var1[i] for i in range(len(real_var1))]\n",
    "    intercept=[]\n",
    "    for i in range(len(given[0])-1):\n",
    "        c=((y_train.mean())-(m[i]*(x_train[i].mean())))\n",
    "        intercept.append(c)\n",
    "    \n",
    "    tar=[]\n",
    "    for i in range(len(given[0])-1):\n",
    "        for j in range(len(given)):\n",
    "        \n",
    "            tar.append(m[i]*x[i][j]+intercept[i])\n",
    "    import copy \n",
    "    fin_tar=copy.deepcopy(tar)\n",
    "\n",
    "\n",
    "    final=[]\n",
    "    for i in range(len(given[0])-1):\n",
    "        final.append(fin_tar[0:len(given)])\n",
    "        del fin_tar[0:len(df)]\n",
    "    pred1=[[row[i] for row in final] for i in range(len(data))]\n",
    "\n",
    "\n",
    "    pred=[(sum(i)/len(i)) for i in pred1]\n",
    "    return pred\n",
    "    \n",
    "predictions(test_data)\n",
    "c=[i for i in range(len(test_data))]\n",
    "plt.scatter(c,pred,color=\"blue\",label=\"PREDICTED\")\n",
    "plt.scatter(c,target,color=\"green\",label=\"ACTUAL\")\n",
    "plt.legend()"
   ]
  },
  {
   "cell_type": "code",
   "execution_count": 621,
   "metadata": {
    "scrolled": true
   },
   "outputs": [
    {
     "name": "stdout",
     "output_type": "stream",
     "text": [
      "ACCURACY: -14.974494693722926\n",
      "PREDICTED_VALS: [12481.889481934053, 12481.889481934053, 12996.268360150903, 12555.733476246605, 13075.648163339669, 13073.32947197219, 13779.06621062305, 13796.161233108649, 14071.127976314496, 13310.261110008583, 12769.34419079291, 12805.649699360796, 13424.370763529714, 13467.901595189891, 14009.650176010757, 14342.989341891218, 14344.698277435415, 14736.404545600133, 9893.15146551402, 10458.241410874036, 10508.815038280078, 10390.695075057227, 10566.309379514445, 11727.623524424012, 10670.232138234911, 10670.362628944094, 10670.362628944094, 11790.961897590274, 12188.712671940426, 13120.722823570763, 10058.48538054869, 10398.58187126869, 10226.674215625397, 10595.588986926407, 10612.553518702818, 10889.8648628482, 11006.130134314426, 11312.29002402704, 11339.433274869298, 11645.964819190573, 11505.47129492133, 12476.11744471957, 11810.589669805386, 11755.141047384492, 10352.600174744024, 10404.393517101546, 12510.592658661295, 14792.164365172936, 14739.62823012712, 14712.505374764834, 10890.577758582938, 10735.390103203077, 10738.78300955836, 10844.086486649947, 10867.447935382394, 12083.37342649722, 12083.37342649722, 12086.766332852503, 12314.795315012692, 12117.181131987649, 12180.166305555964, 12117.181131987649, 12180.166305555964, 12179.528775335983, 12200.393252978472, 13392.306882425242, 12809.7069438913, 14740.99660904404, 14761.072805599628, 14611.508798849774, 14913.277541227115, 14970.971680999968, 14336.408179139195, 15271.844448664364, 15150.718513627193, 13853.273175997432, 10547.64562259225, 10733.965395709536, 10764.501552907077, 11815.46961510255, 12401.866328004875, 11724.138043896824, 13216.803395187308, 13243.752198152302, 13247.145104507583, 11756.760553311597, 11780.510897798571, 12441.274650130212, 12264.87215563638, 10861.95925597431, 10931.598468348186, 10878.923787750722, 10902.702272219673, 10974.203641462587, 10899.281225882414, 10927.698951768949, 10929.84552306193, 10980.989454173152, 10945.025691883448, 11683.704211340537, 11663.477263918028, 13804.902261987821, 13860.727322039185, 13668.067091881016, 13437.418859598942, 13709.864753293283, 13831.888005652723, 13556.916591368077, 13831.941646206606, 13749.578304841218, 14228.195404513734, 13567.592614056819, 13842.12036527245, 13720.696477069361, 14231.588310869014, 13590.8456549209, 13842.12036527245, 14134.120544609797, 10404.008853740039, 11785.858260389905, 10669.895950150349, 10760.250905619578, 10887.514761918135, 12281.800498940744, 13469.798672870347, 13171.28675315283, 13668.731480020691, 13668.731480020691, 13692.351333798484, 14196.357422318451, 12857.879227754216, 12654.638413392007, 13039.562115184304, 13015.277810064463, 12792.20054160282, 13039.02815455144, 13291.189105357053, 13277.610268897284, 11076.699905587262, 11367.437702740333, 11258.590225652531, 11423.052309704839, 11597.264616393972, 11945.55127782298, 11779.827373705779, 12410.023529594939, 11821.462996096001, 12203.79159373158, 11905.621208247137, 12770.645034599635, 10801.454386959611, 10945.209424621635, 10936.269027418704, 11247.29137023353, 11228.779942642728, 11542.504960862569, 11189.337497534481, 11202.033338728928, 11672.11579891016, 11408.570552857902, 10859.057526794977, 11297.93841715701, 11294.676001510914, 11355.540869256549, 11375.767816679056, 12011.296953502862, 12041.702619991218, 12998.806042748087, 12995.413136392805, 12995.543627101992, 13029.342199945626, 13036.258503365378, 13151.689899258807, 12357.742993104697, 12642.207722763504, 12472.050870688083, 12490.97004144088, 12489.015402464494, 13827.378146671443, 13855.91940646549, 14031.746669478905, 13923.34174117594, 11481.529848658854, 11818.164141677215, 11619.651685874582, 11956.285978892942, 11983.429229735199, 11872.500262054908, 12312.574495382463, 11737.75053252935, 11608.625514899273, 13233.149633008547, 12345.433448861535, 12434.280146804042, 13651.843443952976, 13798.963011630156, 13640.26671593534, 13780.600470901956, 13941.948328579363, 14102.639521677673, 13942.358664071195, 14236.090341551651, 14393.670035181067, 14280.193795033538, 14343.796845423043]\n",
      "ACTUAL_VALS: 0      13495\n",
      "1      16500\n",
      "2      16500\n",
      "3      13950\n",
      "4      17450\n",
      "       ...  \n",
      "200    16845\n",
      "201    19045\n",
      "202    21485\n",
      "203    22470\n",
      "204    22625\n",
      "Name: price, Length: 205, dtype: int64\n"
     ]
    }
   ],
   "source": [
    "tar=[]\n",
    "for i in range(len(x)):\n",
    "    for j in range(len(df)):\n",
    "        \n",
    "        tar.append(m[i]*x[i][j]+intercept[i])\n",
    "import copy \n",
    "fin_tar=copy.deepcopy(tar)\n",
    "\n",
    "final=[]\n",
    "for i in range(len(data[0])-1):\n",
    "    final.append(fin_tar[0:len(df)])\n",
    "    del fin_tar[0:len(df)]\n",
    "pred1=[[row[i] for row in final] for i in range(len(df))]\n",
    "\n",
    "\n",
    "pred=[(sum(i)/len(i)) for i in pred1]\n",
    "from sklearn.metrics import r2_score\n",
    "print(\"ACCURACY:\",r2_score(pred,target))\n",
    "\n",
    "c=[i for i in range(len(df))]\n",
    "\n",
    "print(\"PREDICTED_VALS:\",pred)\n",
    "print(\"ACTUAL_VALS:\",target)"
   ]
  },
  {
   "cell_type": "code",
   "execution_count": 622,
   "metadata": {},
   "outputs": [
    {
     "data": {
      "text/plain": [
       "<matplotlib.legend.Legend at 0x1c9b8eeb248>"
      ]
     },
     "execution_count": 622,
     "metadata": {},
     "output_type": "execute_result"
    },
    {
     "data": {
      "image/png": "[encoded data removed]",
      "text/plain": [
       "<Figure size 432x288 with 1 Axes>"
      ]
     },
     "metadata": {
      "needs_background": "light"
     },
     "output_type": "display_data"
    }
   ],
   "source": [
    "import matplotlib.pyplot as plt\n",
    "plt.scatter(c,pred,color=\"blue\",label=\"PREDICTED\")\n",
    "plt.scatter(c,target,color=\"green\",label=\"ACTUAL\")\n",
    "plt.legend()"
   ]
  },
  {
   "cell_type": "code",
   "execution_count": null,
   "metadata": {},
   "outputs": [],
   "source": []
  }
 ],
 "metadata": {
  "kernelspec": {
   "display_name": "Python 3",
   "language": "python",
   "name": "python3"
  },
  "language_info": {
   "codemirror_mode": {
    "name": "ipython",
    "version": 3
   },
   "file_extension": ".py",
   "mimetype": "text/x-python",
   "name": "python",
   "nbconvert_exporter": "python",
   "pygments_lexer": "ipython3",
   "version": "3.7.4"
  }
 },
 "nbformat": 4,
 "nbformat_minor": 2
}
