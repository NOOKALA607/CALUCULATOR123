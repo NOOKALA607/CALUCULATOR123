{
 "cells": [
  {
   "cell_type": "code",
   "execution_count": null,
   "metadata": {},
   "outputs": [],
   "source": [
    "\"\"\"\n",
    "https://anaconda.org/conda-forge/speechrecognition\n",
    "https://pypi.org/project/SpeechRecognition/\n",
    "conda install -c anaconda pyaudio \n",
    "\n",
    "conda install -c conda-forge speechrecognition \n",
    "conda install -c conda-forge/label/cf201901 speechrecognition\n",
    "\"\"\""
   ]
  },
  {
   "cell_type": "code",
   "execution_count": 32,
   "metadata": {},
   "outputs": [
    {
     "name": "stdout",
     "output_type": "stream",
     "text": [
      "speak now\n"
     ]
    }
   ],
   "source": [
    "\n",
    "\n",
    "import speech_recognition as sr\n",
    "import webbrowser as wb\n",
    "r1=sr.Recognizer()\n",
    "r2=sr.Recognizer()\n",
    "r3=sr.Recognizer()\n",
    "with sr.Microphone() as source:\n",
    "    #print(\"[search Edureka: search youtube]\")\n",
    "    print(\"speak now\")\n",
    "    audio=r3.listen(source) \n",
    "    \n",
    "try:\n",
    "    if \"kalyan\" in r1.recognize_google(audio):\n",
    "        r1=sr.Recognizer()\n",
    "        url=\"https://www.youtube.com\"\n",
    "        with sr.Microphone() as source:\n",
    "            print(\"search your query\")\n",
    "            audio=r2.listen(source)       \n",
    "            try:\n",
    "                get=r1.recognize_google(audio)\n",
    "                print(get)\n",
    "                wb.get().open_url(url+get)\n",
    "\n",
    "            except sr.UnknownValueError:\n",
    "                print(\"error\")\n",
    "            except sr.RequestError as e:\n",
    "                print(\"failed\".format(e))      \n",
    "except Exception as msg:\n",
    "    print(\"Exception:\",msg)"
   ]
  },
  {
   "cell_type": "code",
   "execution_count": null,
   "metadata": {},
   "outputs": [],
   "source": []
  }
 ],
 "metadata": {
  "kernelspec": {
   "display_name": "Python 3",
   "language": "python",
   "name": "python3"
  },
  "language_info": {
   "codemirror_mode": {
    "name": "ipython",
    "version": 3
   },
   "file_extension": ".py",
   "mimetype": "text/x-python",
   "name": "python",
   "nbconvert_exporter": "python",
   "pygments_lexer": "ipython3",
   "version": "3.7.3"
  }
 },
 "nbformat": 4,
 "nbformat_minor": 2
}
